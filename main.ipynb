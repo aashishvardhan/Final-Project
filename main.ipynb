{
 "cells": [
  {
   "cell_type": "markdown",
   "metadata": {},
   "source": [
    "# Code to run the different models\n",
    "\n",
    "## Initial import of packages"
   ]
  },
  {
   "cell_type": "code",
   "execution_count": 1,
   "metadata": {},
   "outputs": [],
   "source": [
    "from data_handler import get_dataset\n",
    "from data_utils import *\n",
    "import matplotlib.pyplot as plt\n",
    "\n",
    "from models.model_utils import get_model, get_model_args\n",
    "from models.armodels import get_baselines\n",
    "from preprocess_data import *\n",
    "from models.gcnlstm import get_gcnlstm\n",
    "from data_utils import *\n",
    "from graph_utils import *\n",
    "\n",
    "import tensorflow as tf\n",
    "from keras.optimizers import Adam"
   ]
  },
  {
   "cell_type": "markdown",
   "metadata": {},
   "source": [
    "## Data setup"
   ]
  },
  {
   "cell_type": "code",
   "execution_count": 2,
   "metadata": {},
   "outputs": [],
   "source": [
    "dataset = \"Palo Alto\"\n",
    "model_name = \"convlstm\"\n",
    "\n",
    "prediction_horizon = 7\n",
    "num_lags = 60"
   ]
  },
  {
   "cell_type": "code",
   "execution_count": 3,
   "metadata": {},
   "outputs": [
    {
     "output_type": "stream",
     "name": "stderr",
     "text": [
      "/Users/frederikhyttel/miniforge3/envs/ml/lib/python3.8/site-packages/IPython/core/interactiveshell.py:3437: DtypeWarning: Columns (29,30,32) have mixed types.Specify dtype option on import or set low_memory=False.\n",
      "  exec(code_obj, self.user_global_ns, self.user_ns)\n",
      "[-122.163289  -122.1531172 -122.1429454 -122.1327736 -122.1226018\n",
      " -122.11243  ]\n",
      "[37.422054  37.4275282 37.4330024 37.4384766 37.4439508 37.449425 ]\n"
     ]
    }
   ],
   "source": [
    "data = get_dataset(dataset)"
   ]
  },
  {
   "cell_type": "markdown",
   "metadata": {},
   "source": [
    "## Get baseline predictions"
   ]
  },
  {
   "cell_type": "code",
   "execution_count": 4,
   "metadata": {},
   "outputs": [],
   "source": [
    "Var_forecast, AR_forecast = get_baselines(prediction_horizon, get_raster_map(data, normalized=True), data)"
   ]
  },
  {
   "cell_type": "markdown",
   "metadata": {},
   "source": [
    "## Setup of CONV or CONV+LSTM models"
   ]
  },
  {
   "cell_type": "code",
   "execution_count": 5,
   "metadata": {},
   "outputs": [],
   "source": [
    "X_train, y_train, X_test, y_test = process_data(data, model_name, prediction_horizon, num_lags)"
   ]
  },
  {
   "cell_type": "code",
   "execution_count": 6,
   "metadata": {},
   "outputs": [],
   "source": [
    "model_args = get_model_args(model_name, prediction_horizon, X_train) \n",
    "model = get_model(model_name, model_args)"
   ]
  },
  {
   "cell_type": "code",
   "execution_count": 7,
   "metadata": {},
   "outputs": [
    {
     "output_type": "stream",
     "name": "stdout",
     "text": [
      "Model: \"sequential\"\n_________________________________________________________________\nLayer (type)                 Output Shape              Param #   \n=================================================================\ntime_distributed (TimeDistri (None, 60, 5, 5, 16)      160       \n_________________________________________________________________\ntime_distributed_1 (TimeDist (None, 60, 400)           0         \n_________________________________________________________________\nbatch_normalization (BatchNo (None, 60, 400)           1600      \n_________________________________________________________________\nlstm (LSTM)                  (None, 100)               200400    \n_________________________________________________________________\nbatch_normalization_1 (Batch (None, 100)               400       \n_________________________________________________________________\ndense (Dense)                (None, 175)               17675     \n_________________________________________________________________\nreshape (Reshape)            (None, 5, 5, 7)           0         \n=================================================================\nTotal params: 220,235\nTrainable params: 219,235\nNon-trainable params: 1,000\n_________________________________________________________________\n"
     ]
    }
   ],
   "source": [
    "model.summary()"
   ]
  },
  {
   "cell_type": "code",
   "execution_count": 8,
   "metadata": {
    "tags": []
   },
   "outputs": [
    {
     "output_type": "stream",
     "name": "stdout",
     "text": [
      "57/57 - 10s - loss: 0.4295 - mse: 0.3513 - mae: 0.4295 - val_loss: 0.0356 - val_mse: 0.0040 - val_mae: 0.0356\n"
     ]
    }
   ],
   "source": [
    "model.compile(loss='mae',  optimizer=Adam(lr=model_args['lr']) ,metrics=[\"mse\",'mae'])\n",
    "\n",
    "hist = model.fit(X_train, y_train,epochs=1,\n",
    "          batch_size=60, verbose=2, shuffle=True,\n",
    "          validation_data=(X_test, y_test))"
   ]
  },
  {
   "cell_type": "markdown",
   "metadata": {},
   "source": [
    "## Setup of T-GCN model"
   ]
  },
  {
   "cell_type": "code",
   "execution_count": 9,
   "metadata": {},
   "outputs": [],
   "source": [
    "G, adj, X_train, y_train, X_test, y_test = setup_GCN(data, prediction_horizon, num_lags)"
   ]
  },
  {
   "cell_type": "code",
   "execution_count": 10,
   "metadata": {},
   "outputs": [
    {
     "output_type": "stream",
     "name": "stdout",
     "text": [
      "Model: \"model\"\n_________________________________________________________________\nLayer (type)                 Output Shape              Param #   \n=================================================================\ninput_2 (InputLayer)         [(None, 47, 60)]          0         \n_________________________________________________________________\ntf.expand_dims (TFOpLambda)  (None, 47, 60, 1)         0         \n_________________________________________________________________\nreshape_1 (Reshape)          (None, 47, 60)            0         \n_________________________________________________________________\nfixed_adjacency_graph_convol (None, 47, 64)            6096      \n_________________________________________________________________\nfixed_adjacency_graph_convol (None, 47, 64)            6352      \n_________________________________________________________________\nreshape_2 (Reshape)          (None, 47, 64, 1)         0         \n_________________________________________________________________\npermute (Permute)            (None, 64, 47, 1)         0         \n_________________________________________________________________\nreshape_3 (Reshape)          (None, 64, 47)            0         \n_________________________________________________________________\nlstm_1 (LSTM)                (None, 120)               80640     \n_________________________________________________________________\nbatch_normalization_3 (Batch (None, 120)               480       \n_________________________________________________________________\ndense_1 (Dense)              (None, 329)               39809     \n_________________________________________________________________\nreshape_4 (Reshape)          (None, 47, 7)             0         \n=================================================================\nTotal params: 133,377\nTrainable params: 128,719\nNon-trainable params: 4,658\n_________________________________________________________________\n"
     ]
    }
   ],
   "source": [
    "model = get_gcnlstm(prediction_horizon, num_lags, adj)\n",
    "model.summary()"
   ]
  },
  {
   "cell_type": "code",
   "execution_count": 11,
   "metadata": {},
   "outputs": [],
   "source": [
    "model.compile(loss='mae',  optimizer=Adam(lr=1e-5) ,metrics=[\"mse\",'mae'])"
   ]
  },
  {
   "cell_type": "code",
   "execution_count": 12,
   "metadata": {},
   "outputs": [
    {
     "output_type": "stream",
     "name": "stdout",
     "text": [
      "211/211 - 3s - loss: 0.1818 - mse: 0.0618 - mae: 0.1818 - val_loss: 0.1232 - val_mse: 0.0396 - val_mae: 0.1232\n"
     ]
    }
   ],
   "source": [
    "hist = model.fit(\n",
    "    X_train,\n",
    "    y_train,\n",
    "    epochs=1,\n",
    "    batch_size=16,\n",
    "    shuffle=True,\n",
    "    verbose=2,\n",
    "    validation_data=(X_test, y_test),\n",
    ")\n",
    "\n"
   ]
  },
  {
   "cell_type": "code",
   "execution_count": null,
   "metadata": {},
   "outputs": [],
   "source": []
  }
 ],
 "metadata": {
  "interpreter": {
   "hash": "339ac25daca5dba94496ae8288454b89d13e6d9d07d7d961fbd37800cb4bb19d"
  },
  "kernelspec": {
   "name": "python3",
   "display_name": "Python 3.8.5 64-bit ('ml': conda)"
  },
  "language_info": {
   "codemirror_mode": {
    "name": "ipython",
    "version": 3
   },
   "file_extension": ".py",
   "mimetype": "text/x-python",
   "name": "python",
   "nbconvert_exporter": "python",
   "pygments_lexer": "ipython3",
   "version": "3.8.5"
  },
  "metadata": {
   "interpreter": {
    "hash": "339ac25daca5dba94496ae8288454b89d13e6d9d07d7d961fbd37800cb4bb19d"
   }
  }
 },
 "nbformat": 4,
 "nbformat_minor": 2
}